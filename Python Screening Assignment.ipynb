{
 "cells": [
  {
   "cell_type": "code",
   "execution_count": 31,
   "id": "68b0fdd7",
   "metadata": {},
   "outputs": [],
   "source": [
    "with open('example.txt', \"w\") as f:\n",
    "    f.write(\"This is a placement assignment\")\n",
    "    f.close()"
   ]
  },
  {
   "cell_type": "code",
   "execution_count": 32,
   "id": "ba10a410",
   "metadata": {},
   "outputs": [],
   "source": [
    "def replace_string(file):\n",
    "    file = open(file, 'r')\n",
    "    file = file.read()\n",
    "    file = file.replace('placement', 'screening')\n",
    "    print(file)\n",
    "    "
   ]
  },
  {
   "cell_type": "code",
   "execution_count": 33,
   "id": "1252f950",
   "metadata": {},
   "outputs": [
    {
     "name": "stdout",
     "output_type": "stream",
     "text": [
      "This is a screening assignment\n"
     ]
    }
   ],
   "source": [
    "replace_string('example.txt')"
   ]
  },
  {
   "cell_type": "markdown",
   "id": "af19baf0",
   "metadata": {},
   "source": [
    "### Decorators\n",
    "\n",
    "In decorators we basically say that inside a function we can also give parameter as a function instead of a specific variable or message kind of things."
   ]
  },
  {
   "cell_type": "code",
   "execution_count": 78,
   "id": "9a26af7b",
   "metadata": {},
   "outputs": [],
   "source": [
    "### Decorators\n",
    "def main_welcome(func):\n",
    "    \n",
    "    def sub_welcome_class():\n",
    "        print(\"Welcome to krish Naik Youtube Channel\")\n",
    "        func()\n",
    "        print(\"Please subscribe the channel\")\n",
    "    return sub_welcome_class()"
   ]
  },
  {
   "cell_type": "code",
   "execution_count": 79,
   "id": "804bb2c7",
   "metadata": {},
   "outputs": [
    {
     "name": "stdout",
     "output_type": "stream",
     "text": [
      "Welcome to krish Naik Youtube Channel\n",
      "This is krish youtube channel\n",
      "Please subscribe the channel\n"
     ]
    }
   ],
   "source": [
    "@main_welcome\n",
    "def channel_name():\n",
    "    print(\"This is krish youtube channel\")"
   ]
  },
  {
   "cell_type": "markdown",
   "id": "1dbd22c3",
   "metadata": {},
   "source": [
    "## Multiple Inheritance"
   ]
  },
  {
   "cell_type": "code",
   "execution_count": 84,
   "id": "a8ce940e",
   "metadata": {},
   "outputs": [],
   "source": [
    "class A:\n",
    "    def method1(self):\n",
    "        print(\"A class method is called\")"
   ]
  },
  {
   "cell_type": "code",
   "execution_count": 85,
   "id": "efee7bb7",
   "metadata": {},
   "outputs": [],
   "source": [
    "class B(A):\n",
    "    def method1(self):\n",
    "        print(\"B class method is called\")\n",
    "    def method2(self):\n",
    "        print(\"B class method is called\")"
   ]
  },
  {
   "cell_type": "code",
   "execution_count": 86,
   "id": "2bde7c5e",
   "metadata": {},
   "outputs": [],
   "source": [
    "class C(A):\n",
    "    def method1(self):\n",
    "        print(\"C class method is called\")"
   ]
  },
  {
   "cell_type": "code",
   "execution_count": 93,
   "id": "27f5b1c2",
   "metadata": {},
   "outputs": [],
   "source": [
    "class D(B,C):\n",
    "    def method1(self):\n",
    "        print(\"D class method is called\")\n",
    "        C.method1(self)\n",
    "        B.method1(self)\n",
    "        A.method1(self)"
   ]
  },
  {
   "cell_type": "code",
   "execution_count": 94,
   "id": "fa1234d8",
   "metadata": {},
   "outputs": [],
   "source": [
    "d = D()"
   ]
  },
  {
   "cell_type": "code",
   "execution_count": 95,
   "id": "afa8e531",
   "metadata": {},
   "outputs": [
    {
     "name": "stdout",
     "output_type": "stream",
     "text": [
      "D class method is called\n",
      "C class method is called\n",
      "B class method is called\n",
      "A class method is called\n"
     ]
    }
   ],
   "source": [
    "d.method1()"
   ]
  },
  {
   "cell_type": "code",
   "execution_count": 96,
   "id": "0f58db65",
   "metadata": {},
   "outputs": [
    {
     "name": "stdout",
     "output_type": "stream",
     "text": [
      "B class method is called\n"
     ]
    }
   ],
   "source": [
    "#method2 of class B\n",
    "d.method2()"
   ]
  },
  {
   "cell_type": "code",
   "execution_count": 97,
   "id": "7f088024",
   "metadata": {},
   "outputs": [
    {
     "name": "stdout",
     "output_type": "stream",
     "text": [
      "B class method is called\n"
     ]
    }
   ],
   "source": [
    "## call class B method 1\n",
    "B.method1(d)"
   ]
  },
  {
   "cell_type": "code",
   "execution_count": 98,
   "id": "cc418e13",
   "metadata": {},
   "outputs": [
    {
     "name": "stdout",
     "output_type": "stream",
     "text": [
      "A class method is called\n"
     ]
    }
   ],
   "source": [
    "## call class B method 1\n",
    "A.method1(d)"
   ]
  },
  {
   "cell_type": "markdown",
   "id": "7379ebe6",
   "metadata": {},
   "source": [
    "## Abstraction"
   ]
  },
  {
   "cell_type": "code",
   "execution_count": 100,
   "id": "9dff897d",
   "metadata": {},
   "outputs": [],
   "source": [
    "from abc import ABC, abstractmethod"
   ]
  },
  {
   "cell_type": "code",
   "execution_count": 112,
   "id": "8f18e113",
   "metadata": {},
   "outputs": [],
   "source": [
    "class car(ABC):\n",
    "    def mileage(self):\n",
    "        pass\n",
    "    \n",
    "class Tiago(car):\n",
    "    def mileage(self):\n",
    "        print(\"The milege is 25 kmph\")\n",
    "        \n",
    "class Alto(car):\n",
    "    def mileage(self):\n",
    "        print(\"The milege is 30 kmph\")\n",
    "        \n",
    "class Altros(car):\n",
    "    def mileage(self):\n",
    "        print(\"The milege is 25 kmph\")\n",
    "        \n",
    "class Fortuner(car):\n",
    "    def mileage(self):\n",
    "        print(\"The milege is 11 kmph\")"
   ]
  },
  {
   "cell_type": "code",
   "execution_count": 113,
   "id": "6ca323d1",
   "metadata": {},
   "outputs": [
    {
     "name": "stdout",
     "output_type": "stream",
     "text": [
      "The milege is 25 kmph\n",
      "The milege is 30 kmph\n",
      "The milege is 25 kmph\n",
      "The milege is 11 kmph\n"
     ]
    }
   ],
   "source": [
    "t= Tiago()   \n",
    "t.mileage()   \n",
    "  \n",
    "a = Alto()   \n",
    "a.mileage()   \n",
    "  \n",
    "a1 = Altros()   \n",
    "a1.mileage() \n",
    "\n",
    "f = Fortuner()   \n",
    "f.mileage()  "
   ]
  },
  {
   "cell_type": "markdown",
   "id": "961c9d01",
   "metadata": {},
   "source": [
    "A class is called an Abstract class if it contains one or more abstract methods. An abstract method is a method that is declared, but contains no implementation. Abstract classes may not be instantiated, and its abstract methods must be implemented by its subclasses"
   ]
  },
  {
   "cell_type": "code",
   "execution_count": null,
   "id": "7d8e68f0",
   "metadata": {},
   "outputs": [],
   "source": []
  }
 ],
 "metadata": {
  "kernelspec": {
   "display_name": "Python 3 (ipykernel)",
   "language": "python",
   "name": "python3"
  },
  "language_info": {
   "codemirror_mode": {
    "name": "ipython",
    "version": 3
   },
   "file_extension": ".py",
   "mimetype": "text/x-python",
   "name": "python",
   "nbconvert_exporter": "python",
   "pygments_lexer": "ipython3",
   "version": "3.9.7"
  }
 },
 "nbformat": 4,
 "nbformat_minor": 5
}
